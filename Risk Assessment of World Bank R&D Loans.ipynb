{
 "cells": [
  {
   "cell_type": "markdown",
   "metadata": {},
   "source": [
    "***Dataset information***\n",
    "\n",
    "\n",
    "The International Bank for Reconstruction and Development (IBRD) loans are public and publicly guaranteed debt extended by the World Bank Group. IBRD loans are made to, or guaranteed by, countries that are members of IBRD. IBRD may also make loans to IFC. IBRD lends at market rates.The World Bank complies with all sanctions applicable to World Bank transactions.\n",
    "\n",
    "\n",
    "1. End of Period - End of Period Date represents the date as of which balances are shown in the report.\n",
    "2. Loan Number - For IBRD loans and IDA credits or grants a loan number consists of the organization prefix (IBRD/IDA) and a five-character label that uniquely identifies the loan within the organization. In IDA, all grant labels start with the letter ‘H’.\n",
    "3. Region - Country lending is grouped into regions based on the current World Bank administrative (rather than geographic) region where project implementation takes place. The Other Region is used for loans to the IFC.\n",
    "4. Country Code - Country Code according to the World Bank country list. Might be different from the ISO country code.\n",
    "5. Country - Country to which loan has been issued. Loans to the IFC are included under the country “World”.\n",
    "6. Borrower - The representative of the borrower to which the Bank loan is made.\n",
    "7. Guarantor Country Code - Country Code of the Guarantor according to the World Bank country list. Might be different from the ISO country code.\n",
    "8. Guarantor -The Guarantor guarantees repayment to the Bank if the borrower does not repay.\n",
    "9. Loan Type -A type of loan/loan instrument for which distinctive accounting and/or other actions need to be performed. \n",
    "10. Loan Status - Status of the loan. See Data Dictionary attached in the About section or Data Dictionary dataset available from the list of all datasets for status descriptions.\n",
    "11. Interest Rate - Current Interest rate or service charge applied to loan. For loans that could have more than one interest rate (e.g. FSL or SCL fixed rate loans), the interest rate is shown as “0”.\n",
    "12. Currency of Commitment - The currency in which a borrower’s loan, credit, grant or trust fund is denominated.\n",
    "13. Project ID -A Bank project is referenced by a project ID (Pxxxxxxx). More than one loan or credit may be associated with one Project ID.\n",
    "14. Project Name -Short descriptive project name.\n",
    "15. Original Principal Amount -The original US dollar amount of the loan that is committed and approved."
   ]
  },
  {
   "cell_type": "code",
   "execution_count": 1,
   "metadata": {
    "jupyter": {
     "is_executing": true
    }
   },
   "outputs": [],
   "source": [
    "import pandas as pd\n",
    "import numpy as np\n",
    "from sklearn.preprocessing import StandardScaler, OneHotEncoder\n",
    "from sklearn.impute import SimpleImputer\n",
    "from sklearn.compose import ColumnTransformer\n",
    "from sklearn.pipeline import Pipeline\n",
    "from scipy.sparse import hstack\n",
    "from sklearn.model_selection import train_test_split\n",
    "from sklearn.ensemble import RandomForestClassifier\n",
    "from sklearn.metrics import classification_report, confusion_matrix,accuracy_score "
   ]
  },
  {
   "cell_type": "code",
   "execution_count": 2,
   "metadata": {
    "jupyter": {
     "is_executing": true
    }
   },
   "outputs": [
    {
     "data": {
      "text/html": [
       "<div>\n",
       "<style scoped>\n",
       "    .dataframe tbody tr th:only-of-type {\n",
       "        vertical-align: middle;\n",
       "    }\n",
       "\n",
       "    .dataframe tbody tr th {\n",
       "        vertical-align: top;\n",
       "    }\n",
       "\n",
       "    .dataframe thead th {\n",
       "        text-align: right;\n",
       "    }\n",
       "</style>\n",
       "<table border=\"1\" class=\"dataframe\">\n",
       "  <thead>\n",
       "    <tr style=\"text-align: right;\">\n",
       "      <th></th>\n",
       "      <th>End of Period</th>\n",
       "      <th>Loan Number</th>\n",
       "      <th>Region</th>\n",
       "      <th>Country Code</th>\n",
       "      <th>Country</th>\n",
       "      <th>Borrower</th>\n",
       "      <th>Guarantor Country Code</th>\n",
       "      <th>Guarantor</th>\n",
       "      <th>Loan Type</th>\n",
       "      <th>Loan Status</th>\n",
       "      <th>...</th>\n",
       "      <th>Repaid 3rd Party</th>\n",
       "      <th>Due 3rd Party</th>\n",
       "      <th>Loans Held</th>\n",
       "      <th>First Repayment Date</th>\n",
       "      <th>Last Repayment Date</th>\n",
       "      <th>Agreement Signing Date</th>\n",
       "      <th>Board Approval Date</th>\n",
       "      <th>Effective Date (Most Recent)</th>\n",
       "      <th>Closed Date (Most Recent)</th>\n",
       "      <th>Last Disbursement Date</th>\n",
       "    </tr>\n",
       "  </thead>\n",
       "  <tbody>\n",
       "    <tr>\n",
       "      <th>0</th>\n",
       "      <td>05/31/2022 12:00:00 AM</td>\n",
       "      <td>IBRD00010</td>\n",
       "      <td>EUROPE AND CENTRAL ASIA</td>\n",
       "      <td>FR</td>\n",
       "      <td>France</td>\n",
       "      <td>CREDIT NATIONAL</td>\n",
       "      <td>FR</td>\n",
       "      <td>France</td>\n",
       "      <td>NPL</td>\n",
       "      <td>Fully Repaid</td>\n",
       "      <td>...</td>\n",
       "      <td>249,962,000</td>\n",
       "      <td>0.0</td>\n",
       "      <td>0</td>\n",
       "      <td>11/01/1952 12:00:00 AM</td>\n",
       "      <td>05/01/1977 12:00:00 AM</td>\n",
       "      <td>05/09/1947 12:00:00 AM</td>\n",
       "      <td>05/09/1947 12:00:00 AM</td>\n",
       "      <td>06/09/1947 12:00:00 AM</td>\n",
       "      <td>12/31/1947 12:00:00 AM</td>\n",
       "      <td>NaN</td>\n",
       "    </tr>\n",
       "    <tr>\n",
       "      <th>1</th>\n",
       "      <td>05/31/2022 12:00:00 AM</td>\n",
       "      <td>IBRD00020</td>\n",
       "      <td>EUROPE AND CENTRAL ASIA</td>\n",
       "      <td>NL</td>\n",
       "      <td>Netherlands</td>\n",
       "      <td>NaN</td>\n",
       "      <td>NaN</td>\n",
       "      <td>NaN</td>\n",
       "      <td>NPL</td>\n",
       "      <td>Fully Repaid</td>\n",
       "      <td>...</td>\n",
       "      <td>87,672,000</td>\n",
       "      <td>0.0</td>\n",
       "      <td>0</td>\n",
       "      <td>04/01/1952 12:00:00 AM</td>\n",
       "      <td>10/01/1972 12:00:00 AM</td>\n",
       "      <td>08/07/1947 12:00:00 AM</td>\n",
       "      <td>08/07/1947 12:00:00 AM</td>\n",
       "      <td>09/11/1947 12:00:00 AM</td>\n",
       "      <td>03/31/1948 12:00:00 AM</td>\n",
       "      <td>NaN</td>\n",
       "    </tr>\n",
       "    <tr>\n",
       "      <th>2</th>\n",
       "      <td>05/31/2022 12:00:00 AM</td>\n",
       "      <td>IBRD00021</td>\n",
       "      <td>EUROPE AND CENTRAL ASIA</td>\n",
       "      <td>NL</td>\n",
       "      <td>Netherlands</td>\n",
       "      <td>NaN</td>\n",
       "      <td>NaN</td>\n",
       "      <td>NaN</td>\n",
       "      <td>NPL</td>\n",
       "      <td>Fully Repaid</td>\n",
       "      <td>...</td>\n",
       "      <td>3,955,788.25</td>\n",
       "      <td>0.0</td>\n",
       "      <td>0</td>\n",
       "      <td>04/01/1953 12:00:00 AM</td>\n",
       "      <td>04/01/1954 12:00:00 AM</td>\n",
       "      <td>05/25/1948 12:00:00 AM</td>\n",
       "      <td>08/07/1947 12:00:00 AM</td>\n",
       "      <td>06/01/1948 12:00:00 AM</td>\n",
       "      <td>06/30/1948 12:00:00 AM</td>\n",
       "      <td>NaN</td>\n",
       "    </tr>\n",
       "    <tr>\n",
       "      <th>3</th>\n",
       "      <td>05/31/2022 12:00:00 AM</td>\n",
       "      <td>IBRD00030</td>\n",
       "      <td>EUROPE AND CENTRAL ASIA</td>\n",
       "      <td>DK</td>\n",
       "      <td>Denmark</td>\n",
       "      <td>NaN</td>\n",
       "      <td>NaN</td>\n",
       "      <td>NaN</td>\n",
       "      <td>NPL</td>\n",
       "      <td>Fully Repaid</td>\n",
       "      <td>...</td>\n",
       "      <td>22,229,000</td>\n",
       "      <td>0.0</td>\n",
       "      <td>0</td>\n",
       "      <td>02/01/1953 12:00:00 AM</td>\n",
       "      <td>08/01/1972 12:00:00 AM</td>\n",
       "      <td>08/22/1947 12:00:00 AM</td>\n",
       "      <td>08/22/1947 12:00:00 AM</td>\n",
       "      <td>10/17/1947 12:00:00 AM</td>\n",
       "      <td>03/31/1949 12:00:00 AM</td>\n",
       "      <td>NaN</td>\n",
       "    </tr>\n",
       "    <tr>\n",
       "      <th>4</th>\n",
       "      <td>05/31/2022 12:00:00 AM</td>\n",
       "      <td>IBRD00040</td>\n",
       "      <td>EUROPE AND CENTRAL ASIA</td>\n",
       "      <td>LU</td>\n",
       "      <td>Luxembourg</td>\n",
       "      <td>NaN</td>\n",
       "      <td>NaN</td>\n",
       "      <td>NaN</td>\n",
       "      <td>NPL</td>\n",
       "      <td>Fully Repaid</td>\n",
       "      <td>...</td>\n",
       "      <td>10,142,000</td>\n",
       "      <td>0.0</td>\n",
       "      <td>0</td>\n",
       "      <td>07/15/1949 12:00:00 AM</td>\n",
       "      <td>07/15/1972 12:00:00 AM</td>\n",
       "      <td>08/28/1947 12:00:00 AM</td>\n",
       "      <td>08/28/1947 12:00:00 AM</td>\n",
       "      <td>10/24/1947 12:00:00 AM</td>\n",
       "      <td>03/31/1949 12:00:00 AM</td>\n",
       "      <td>NaN</td>\n",
       "    </tr>\n",
       "  </tbody>\n",
       "</table>\n",
       "<p>5 rows × 33 columns</p>\n",
       "</div>"
      ],
      "text/plain": [
       "            End of Period Loan Number                   Region Country Code  \\\n",
       "0  05/31/2022 12:00:00 AM   IBRD00010  EUROPE AND CENTRAL ASIA           FR   \n",
       "1  05/31/2022 12:00:00 AM   IBRD00020  EUROPE AND CENTRAL ASIA           NL   \n",
       "2  05/31/2022 12:00:00 AM   IBRD00021  EUROPE AND CENTRAL ASIA           NL   \n",
       "3  05/31/2022 12:00:00 AM   IBRD00030  EUROPE AND CENTRAL ASIA           DK   \n",
       "4  05/31/2022 12:00:00 AM   IBRD00040  EUROPE AND CENTRAL ASIA           LU   \n",
       "\n",
       "       Country         Borrower Guarantor Country Code Guarantor Loan Type  \\\n",
       "0       France  CREDIT NATIONAL                     FR    France       NPL   \n",
       "1  Netherlands              NaN                    NaN       NaN       NPL   \n",
       "2  Netherlands              NaN                    NaN       NaN       NPL   \n",
       "3      Denmark              NaN                    NaN       NaN       NPL   \n",
       "4   Luxembourg              NaN                    NaN       NaN       NPL   \n",
       "\n",
       "    Loan Status  ...  Repaid 3rd Party  Due 3rd Party Loans Held  \\\n",
       "0  Fully Repaid  ...       249,962,000            0.0          0   \n",
       "1  Fully Repaid  ...        87,672,000            0.0          0   \n",
       "2  Fully Repaid  ...      3,955,788.25            0.0          0   \n",
       "3  Fully Repaid  ...        22,229,000            0.0          0   \n",
       "4  Fully Repaid  ...        10,142,000            0.0          0   \n",
       "\n",
       "     First Repayment Date     Last Repayment Date  Agreement Signing Date  \\\n",
       "0  11/01/1952 12:00:00 AM  05/01/1977 12:00:00 AM  05/09/1947 12:00:00 AM   \n",
       "1  04/01/1952 12:00:00 AM  10/01/1972 12:00:00 AM  08/07/1947 12:00:00 AM   \n",
       "2  04/01/1953 12:00:00 AM  04/01/1954 12:00:00 AM  05/25/1948 12:00:00 AM   \n",
       "3  02/01/1953 12:00:00 AM  08/01/1972 12:00:00 AM  08/22/1947 12:00:00 AM   \n",
       "4  07/15/1949 12:00:00 AM  07/15/1972 12:00:00 AM  08/28/1947 12:00:00 AM   \n",
       "\n",
       "      Board Approval Date Effective Date (Most Recent)  \\\n",
       "0  05/09/1947 12:00:00 AM       06/09/1947 12:00:00 AM   \n",
       "1  08/07/1947 12:00:00 AM       09/11/1947 12:00:00 AM   \n",
       "2  08/07/1947 12:00:00 AM       06/01/1948 12:00:00 AM   \n",
       "3  08/22/1947 12:00:00 AM       10/17/1947 12:00:00 AM   \n",
       "4  08/28/1947 12:00:00 AM       10/24/1947 12:00:00 AM   \n",
       "\n",
       "  Closed Date (Most Recent) Last Disbursement Date  \n",
       "0    12/31/1947 12:00:00 AM                    NaN  \n",
       "1    03/31/1948 12:00:00 AM                    NaN  \n",
       "2    06/30/1948 12:00:00 AM                    NaN  \n",
       "3    03/31/1949 12:00:00 AM                    NaN  \n",
       "4    03/31/1949 12:00:00 AM                    NaN  \n",
       "\n",
       "[5 rows x 33 columns]"
      ]
     },
     "execution_count": 2,
     "metadata": {},
     "output_type": "execute_result"
    }
   ],
   "source": [
    "#Reading the csv file\n",
    "df = pd.read_csv(r\"F:\\data\\financial markers\\IBRD_Statement_Of_Loans_-_Historical_Data_20240724.csv\",low_memory=False)\n",
    "df.head()"
   ]
  },
  {
   "cell_type": "markdown",
   "metadata": {},
   "source": [
    "***Data Preprocessing***"
   ]
  },
  {
   "cell_type": "code",
   "execution_count": 3,
   "metadata": {
    "jupyter": {
     "is_executing": true
    }
   },
   "outputs": [
    {
     "name": "stdout",
     "output_type": "stream",
     "text": [
      "<class 'pandas.core.frame.DataFrame'>\n",
      "RangeIndex: 1332985 entries, 0 to 1332984\n",
      "Data columns (total 33 columns):\n",
      " #   Column                        Non-Null Count    Dtype  \n",
      "---  ------                        --------------    -----  \n",
      " 0   End of Period                 1332985 non-null  object \n",
      " 1   Loan Number                   1332985 non-null  object \n",
      " 2   Region                        1332985 non-null  object \n",
      " 3   Country Code                  1332663 non-null  object \n",
      " 4   Country                       1332985 non-null  object \n",
      " 5   Borrower                      1323806 non-null  object \n",
      " 6   Guarantor Country Code        1283652 non-null  object \n",
      " 7   Guarantor                     1257306 non-null  object \n",
      " 8   Loan Type                     1332985 non-null  object \n",
      " 9   Loan Status                   1332985 non-null  object \n",
      " 10  Interest Rate                 1302149 non-null  float64\n",
      " 11  Currency of Commitment        0 non-null        float64\n",
      " 12  Project ID                    1332943 non-null  object \n",
      " 13  Project Name                  1173871 non-null  object \n",
      " 14  Original Principal Amount     1332985 non-null  object \n",
      " 15  Cancelled Amount              1332985 non-null  object \n",
      " 16  Undisbursed Amount            1332985 non-null  object \n",
      " 17  Disbursed Amount              1332985 non-null  object \n",
      " 18  Repaid to IBRD                1332985 non-null  object \n",
      " 19  Due to IBRD                   1332985 non-null  object \n",
      " 20  Exchange Adjustment           1332985 non-null  object \n",
      " 21  Borrower's Obligation         1332985 non-null  object \n",
      " 22  Sold 3rd Party                1332985 non-null  object \n",
      " 23  Repaid 3rd Party              1332985 non-null  object \n",
      " 24  Due 3rd Party                 1332985 non-null  float64\n",
      " 25  Loans Held                    1332985 non-null  object \n",
      " 26  First Repayment Date          1328860 non-null  object \n",
      " 27  Last Repayment Date           1329020 non-null  object \n",
      " 28  Agreement Signing Date        1313567 non-null  object \n",
      " 29  Board Approval Date           1332983 non-null  object \n",
      " 30  Effective Date (Most Recent)  1322638 non-null  object \n",
      " 31  Closed Date (Most Recent)     1331727 non-null  object \n",
      " 32  Last Disbursement Date        789015 non-null   object \n",
      "dtypes: float64(3), object(30)\n",
      "memory usage: 335.6+ MB\n"
     ]
    }
   ],
   "source": [
    "#Checking the dtypes to ensure the columns have appropriate data types.\n",
    "df.info()"
   ]
  },
  {
   "cell_type": "code",
   "execution_count": 4,
   "metadata": {
    "jupyter": {
     "is_executing": true
    }
   },
   "outputs": [
    {
     "name": "stdout",
     "output_type": "stream",
     "text": [
      "<class 'pandas.core.frame.DataFrame'>\n",
      "RangeIndex: 1332985 entries, 0 to 1332984\n",
      "Data columns (total 33 columns):\n",
      " #   Column                        Non-Null Count    Dtype         \n",
      "---  ------                        --------------    -----         \n",
      " 0   End of Period                 1332985 non-null  object        \n",
      " 1   Loan Number                   1332985 non-null  object        \n",
      " 2   Region                        1332985 non-null  object        \n",
      " 3   Country Code                  1332663 non-null  object        \n",
      " 4   Country                       1332985 non-null  object        \n",
      " 5   Borrower                      1323806 non-null  object        \n",
      " 6   Guarantor Country Code        1283652 non-null  object        \n",
      " 7   Guarantor                     1257306 non-null  object        \n",
      " 8   Loan Type                     1332985 non-null  object        \n",
      " 9   Loan Status                   1332985 non-null  object        \n",
      " 10  Interest Rate                 1302149 non-null  float64       \n",
      " 11  Currency of Commitment        0 non-null        float64       \n",
      " 12  Project ID                    1332943 non-null  object        \n",
      " 13  Project Name                  1173871 non-null  object        \n",
      " 14  Original Principal Amount     42050 non-null    float64       \n",
      " 15  Cancelled Amount              672095 non-null   float64       \n",
      " 16  Undisbursed Amount            1229294 non-null  float64       \n",
      " 17  Disbursed Amount              101798 non-null   float64       \n",
      " 18  Repaid to IBRD                215943 non-null   float64       \n",
      " 19  Due to IBRD                   1030536 non-null  float64       \n",
      " 20  Exchange Adjustment           1263780 non-null  float64       \n",
      " 21  Borrower's Obligation         1040529 non-null  float64       \n",
      " 22  Sold 3rd Party                1192754 non-null  float64       \n",
      " 23  Repaid 3rd Party              1192754 non-null  float64       \n",
      " 24  Due 3rd Party                 1332985 non-null  float64       \n",
      " 25  Loans Held                    1013192 non-null  float64       \n",
      " 26  First Repayment Date          1328860 non-null  datetime64[ns]\n",
      " 27  Last Repayment Date           1329020 non-null  datetime64[ns]\n",
      " 28  Agreement Signing Date        1313567 non-null  datetime64[ns]\n",
      " 29  Board Approval Date           1332983 non-null  datetime64[ns]\n",
      " 30  Effective Date (Most Recent)  1322638 non-null  datetime64[ns]\n",
      " 31  Closed Date (Most Recent)     1331727 non-null  datetime64[ns]\n",
      " 32  Last Disbursement Date        789015 non-null   datetime64[ns]\n",
      "dtypes: datetime64[ns](7), float64(14), object(12)\n",
      "memory usage: 335.6+ MB\n"
     ]
    }
   ],
   "source": [
    "# Convert date columns to datetime\n",
    "date_columns = ['First Repayment Date', 'Last Repayment Date', 'Agreement Signing Date',\n",
    "                'Board Approval Date', 'Effective Date (Most Recent)', 'Closed Date (Most Recent)',\n",
    "                'Last Disbursement Date']\n",
    "for col in date_columns:\n",
    "    df[col] = pd.to_datetime(df[col], errors='coerce')\n",
    "\n",
    "\n",
    "# Convert the numerical columns to float\n",
    "num_columns = [\n",
    "    'Interest Rate', 'Original Principal Amount', 'Cancelled Amount',\n",
    "    'Undisbursed Amount', 'Disbursed Amount', 'Repaid to IBRD', 'Due to IBRD',\n",
    "    'Exchange Adjustment', \"Borrower's Obligation\", 'Sold 3rd Party',\n",
    "    'Repaid 3rd Party', 'Due 3rd Party', 'Loans Held'\n",
    "]\n",
    "for col1 in num_columns:\n",
    "    df[col1] = pd.to_numeric(df[col1], errors='coerce')\n",
    "#df[num_convert] = df[num_convert].apply(pd.to_numeric, errors='coerce')\n",
    "\n",
    "df.info()"
   ]
  },
  {
   "cell_type": "code",
   "execution_count": 5,
   "metadata": {
    "jupyter": {
     "is_executing": true
    }
   },
   "outputs": [],
   "source": [
    "# Adding new columns pertaining to the duration of loan and remaining principal amount.\n",
    "df['Loan Duration'] = (df['Last Repayment Date'] - df['First Repayment Date']).dt.days\n",
    "df['Remaining Principal'] = df['Original Principal Amount'] - df['Repaid to IBRD']"
   ]
  },
  {
   "cell_type": "code",
   "execution_count": 7,
   "metadata": {
    "jupyter": {
     "is_executing": true
    }
   },
   "outputs": [
    {
     "data": {
      "text/plain": [
       "End of Period                         0\n",
       "Loan Number                           0\n",
       "Region                                0\n",
       "Country Code                        322\n",
       "Country                               0\n",
       "Borrower                           9179\n",
       "Guarantor Country Code            49333\n",
       "Guarantor                         75679\n",
       "Loan Type                             0\n",
       "Loan Status                           0\n",
       "Interest Rate                     30836\n",
       "Currency of Commitment          1332985\n",
       "Project ID                           42\n",
       "Project Name                     159114\n",
       "Original Principal Amount       1290935\n",
       "Cancelled Amount                 660890\n",
       "Undisbursed Amount               103691\n",
       "Disbursed Amount                1231187\n",
       "Repaid to IBRD                  1117042\n",
       "Due to IBRD                      302449\n",
       "Exchange Adjustment               69205\n",
       "Borrower's Obligation            292456\n",
       "Sold 3rd Party                   140231\n",
       "Repaid 3rd Party                 140231\n",
       "Due 3rd Party                         0\n",
       "Loans Held                       319793\n",
       "First Repayment Date               4125\n",
       "Last Repayment Date                3965\n",
       "Agreement Signing Date            19418\n",
       "Board Approval Date                   2\n",
       "Effective Date (Most Recent)      10347\n",
       "Closed Date (Most Recent)          1258\n",
       "Last Disbursement Date           543970\n",
       "Loan Duration                      4125\n",
       "Remaining Principal             1294318\n",
       "dtype: int64"
      ]
     },
     "execution_count": 7,
     "metadata": {},
     "output_type": "execute_result"
    }
   ],
   "source": [
    "#checking missing values\n",
    "\n",
    "df.isnull().sum()"
   ]
  },
  {
   "cell_type": "code",
   "execution_count": 8,
   "metadata": {
    "jupyter": {
     "is_executing": true
    }
   },
   "outputs": [],
   "source": [
    "# Dropping columns with excessive missing values\n",
    "columns_to_drop = ['Currency of Commitment','Guarantor Country Code','Guarantor','Project Name ','Remaining Principal']\n",
    "df = df.drop(columns=columns_to_drop)\n"
   ]
  },
  {
   "cell_type": "code",
   "execution_count": 12,
   "metadata": {
    "jupyter": {
     "is_executing": true
    }
   },
   "outputs": [],
   "source": [
    "#Reducing the memory usage of the dataframe by downcasting data types from \"float64\" -> \"float32\" & \"int64\" -> \"int32\".\n",
    "def downcast_dtypes(df):\n",
    "    float_cols = [c for c in df if df[c].dtype == \"float64\"]\n",
    "    int_cols = [c for c in df if df[c].dtype == \"int64\"]\n",
    "\n",
    "    df[float_cols] = df[float_cols].astype(np.float32)\n",
    "    df[int_cols] = df[int_cols].astype(np.int32)\n",
    "    return df\n",
    "\n",
    "df = downcast_dtypes(df)"
   ]
  },
  {
   "cell_type": "code",
   "execution_count": 14,
   "metadata": {
    "jupyter": {
     "is_executing": true
    }
   },
   "outputs": [],
   "source": [
    "#Repairing missing values by using imputation. \n",
    "# Separating numerical columns to make it easier for imputing.\n",
    "num_cols = df.select_dtypes(include=['float32', 'int32']).columns\n",
    "\n",
    "# Applying simple Imputer for numerical columns to estimate the missing values by using the mean value\n",
    "num_imputer = SimpleImputer(strategy=\"mean\")\n",
    "df[num_cols] = num_imputer.fit_transform(df[num_cols])\n",
    "\n"
   ]
  },
  {
   "cell_type": "code",
   "execution_count": 15,
   "metadata": {},
   "outputs": [
    {
     "data": {
      "text/html": [
       "<div>\n",
       "<style scoped>\n",
       "    .dataframe tbody tr th:only-of-type {\n",
       "        vertical-align: middle;\n",
       "    }\n",
       "\n",
       "    .dataframe tbody tr th {\n",
       "        vertical-align: top;\n",
       "    }\n",
       "\n",
       "    .dataframe thead th {\n",
       "        text-align: right;\n",
       "    }\n",
       "</style>\n",
       "<table border=\"1\" class=\"dataframe\">\n",
       "  <thead>\n",
       "    <tr style=\"text-align: right;\">\n",
       "      <th></th>\n",
       "      <th>End of Period</th>\n",
       "      <th>Loan Number</th>\n",
       "      <th>Region</th>\n",
       "      <th>Country Code</th>\n",
       "      <th>Country</th>\n",
       "      <th>Borrower</th>\n",
       "      <th>Loan Type</th>\n",
       "      <th>Loan Status</th>\n",
       "      <th>Interest Rate</th>\n",
       "      <th>Project ID</th>\n",
       "      <th>...</th>\n",
       "      <th>Due 3rd Party</th>\n",
       "      <th>Loans Held</th>\n",
       "      <th>First Repayment Date</th>\n",
       "      <th>Last Repayment Date</th>\n",
       "      <th>Agreement Signing Date</th>\n",
       "      <th>Board Approval Date</th>\n",
       "      <th>Effective Date (Most Recent)</th>\n",
       "      <th>Closed Date (Most Recent)</th>\n",
       "      <th>Last Disbursement Date</th>\n",
       "      <th>Loan Duration</th>\n",
       "    </tr>\n",
       "  </thead>\n",
       "  <tbody>\n",
       "    <tr>\n",
       "      <th>0</th>\n",
       "      <td>05/31/2022 12:00:00 AM</td>\n",
       "      <td>IBRD00010</td>\n",
       "      <td>EUROPE AND CENTRAL ASIA</td>\n",
       "      <td>FR</td>\n",
       "      <td>France</td>\n",
       "      <td>CREDIT NATIONAL</td>\n",
       "      <td>NPL</td>\n",
       "      <td>Fully Repaid</td>\n",
       "      <td>4.25</td>\n",
       "      <td>P037383</td>\n",
       "      <td>...</td>\n",
       "      <td>0.0</td>\n",
       "      <td>0.0</td>\n",
       "      <td>1952-11-01</td>\n",
       "      <td>1977-05-01</td>\n",
       "      <td>1947-05-09</td>\n",
       "      <td>1947-05-09</td>\n",
       "      <td>1947-06-09</td>\n",
       "      <td>1947-12-31</td>\n",
       "      <td>NaT</td>\n",
       "      <td>8947.0</td>\n",
       "    </tr>\n",
       "    <tr>\n",
       "      <th>1</th>\n",
       "      <td>05/31/2022 12:00:00 AM</td>\n",
       "      <td>IBRD00020</td>\n",
       "      <td>EUROPE AND CENTRAL ASIA</td>\n",
       "      <td>NL</td>\n",
       "      <td>Netherlands</td>\n",
       "      <td>NaN</td>\n",
       "      <td>NPL</td>\n",
       "      <td>Fully Repaid</td>\n",
       "      <td>4.25</td>\n",
       "      <td>P037452</td>\n",
       "      <td>...</td>\n",
       "      <td>0.0</td>\n",
       "      <td>0.0</td>\n",
       "      <td>1952-04-01</td>\n",
       "      <td>1972-10-01</td>\n",
       "      <td>1947-08-07</td>\n",
       "      <td>1947-08-07</td>\n",
       "      <td>1947-09-11</td>\n",
       "      <td>1948-03-31</td>\n",
       "      <td>NaT</td>\n",
       "      <td>7488.0</td>\n",
       "    </tr>\n",
       "    <tr>\n",
       "      <th>2</th>\n",
       "      <td>05/31/2022 12:00:00 AM</td>\n",
       "      <td>IBRD00021</td>\n",
       "      <td>EUROPE AND CENTRAL ASIA</td>\n",
       "      <td>NL</td>\n",
       "      <td>Netherlands</td>\n",
       "      <td>NaN</td>\n",
       "      <td>NPL</td>\n",
       "      <td>Fully Repaid</td>\n",
       "      <td>4.25</td>\n",
       "      <td>P037452</td>\n",
       "      <td>...</td>\n",
       "      <td>0.0</td>\n",
       "      <td>0.0</td>\n",
       "      <td>1953-04-01</td>\n",
       "      <td>1954-04-01</td>\n",
       "      <td>1948-05-25</td>\n",
       "      <td>1947-08-07</td>\n",
       "      <td>1948-06-01</td>\n",
       "      <td>1948-06-30</td>\n",
       "      <td>NaT</td>\n",
       "      <td>365.0</td>\n",
       "    </tr>\n",
       "    <tr>\n",
       "      <th>3</th>\n",
       "      <td>05/31/2022 12:00:00 AM</td>\n",
       "      <td>IBRD00030</td>\n",
       "      <td>EUROPE AND CENTRAL ASIA</td>\n",
       "      <td>DK</td>\n",
       "      <td>Denmark</td>\n",
       "      <td>NaN</td>\n",
       "      <td>NPL</td>\n",
       "      <td>Fully Repaid</td>\n",
       "      <td>4.25</td>\n",
       "      <td>P037362</td>\n",
       "      <td>...</td>\n",
       "      <td>0.0</td>\n",
       "      <td>0.0</td>\n",
       "      <td>1953-02-01</td>\n",
       "      <td>1972-08-01</td>\n",
       "      <td>1947-08-22</td>\n",
       "      <td>1947-08-22</td>\n",
       "      <td>1947-10-17</td>\n",
       "      <td>1949-03-31</td>\n",
       "      <td>NaT</td>\n",
       "      <td>7121.0</td>\n",
       "    </tr>\n",
       "    <tr>\n",
       "      <th>4</th>\n",
       "      <td>05/31/2022 12:00:00 AM</td>\n",
       "      <td>IBRD00040</td>\n",
       "      <td>EUROPE AND CENTRAL ASIA</td>\n",
       "      <td>LU</td>\n",
       "      <td>Luxembourg</td>\n",
       "      <td>NaN</td>\n",
       "      <td>NPL</td>\n",
       "      <td>Fully Repaid</td>\n",
       "      <td>4.25</td>\n",
       "      <td>P037451</td>\n",
       "      <td>...</td>\n",
       "      <td>0.0</td>\n",
       "      <td>0.0</td>\n",
       "      <td>1949-07-15</td>\n",
       "      <td>1972-07-15</td>\n",
       "      <td>1947-08-28</td>\n",
       "      <td>1947-08-28</td>\n",
       "      <td>1947-10-24</td>\n",
       "      <td>1949-03-31</td>\n",
       "      <td>NaT</td>\n",
       "      <td>8401.0</td>\n",
       "    </tr>\n",
       "  </tbody>\n",
       "</table>\n",
       "<p>5 rows × 30 columns</p>\n",
       "</div>"
      ],
      "text/plain": [
       "            End of Period Loan Number                   Region Country Code  \\\n",
       "0  05/31/2022 12:00:00 AM   IBRD00010  EUROPE AND CENTRAL ASIA           FR   \n",
       "1  05/31/2022 12:00:00 AM   IBRD00020  EUROPE AND CENTRAL ASIA           NL   \n",
       "2  05/31/2022 12:00:00 AM   IBRD00021  EUROPE AND CENTRAL ASIA           NL   \n",
       "3  05/31/2022 12:00:00 AM   IBRD00030  EUROPE AND CENTRAL ASIA           DK   \n",
       "4  05/31/2022 12:00:00 AM   IBRD00040  EUROPE AND CENTRAL ASIA           LU   \n",
       "\n",
       "       Country         Borrower Loan Type   Loan Status  Interest Rate  \\\n",
       "0       France  CREDIT NATIONAL       NPL  Fully Repaid           4.25   \n",
       "1  Netherlands              NaN       NPL  Fully Repaid           4.25   \n",
       "2  Netherlands              NaN       NPL  Fully Repaid           4.25   \n",
       "3      Denmark              NaN       NPL  Fully Repaid           4.25   \n",
       "4   Luxembourg              NaN       NPL  Fully Repaid           4.25   \n",
       "\n",
       "  Project ID  ...  Due 3rd Party  Loans Held  First Repayment Date  \\\n",
       "0    P037383  ...            0.0         0.0            1952-11-01   \n",
       "1    P037452  ...            0.0         0.0            1952-04-01   \n",
       "2    P037452  ...            0.0         0.0            1953-04-01   \n",
       "3    P037362  ...            0.0         0.0            1953-02-01   \n",
       "4    P037451  ...            0.0         0.0            1949-07-15   \n",
       "\n",
       "   Last Repayment Date  Agreement Signing Date  Board Approval Date  \\\n",
       "0           1977-05-01              1947-05-09           1947-05-09   \n",
       "1           1972-10-01              1947-08-07           1947-08-07   \n",
       "2           1954-04-01              1948-05-25           1947-08-07   \n",
       "3           1972-08-01              1947-08-22           1947-08-22   \n",
       "4           1972-07-15              1947-08-28           1947-08-28   \n",
       "\n",
       "   Effective Date (Most Recent)  Closed Date (Most Recent)  \\\n",
       "0                    1947-06-09                 1947-12-31   \n",
       "1                    1947-09-11                 1948-03-31   \n",
       "2                    1948-06-01                 1948-06-30   \n",
       "3                    1947-10-17                 1949-03-31   \n",
       "4                    1947-10-24                 1949-03-31   \n",
       "\n",
       "   Last Disbursement Date  Loan Duration  \n",
       "0                     NaT         8947.0  \n",
       "1                     NaT         7488.0  \n",
       "2                     NaT          365.0  \n",
       "3                     NaT         7121.0  \n",
       "4                     NaT         8401.0  \n",
       "\n",
       "[5 rows x 30 columns]"
      ]
     },
     "execution_count": 15,
     "metadata": {},
     "output_type": "execute_result"
    }
   ],
   "source": [
    "df.head()"
   ]
  },
  {
   "cell_type": "code",
   "execution_count": 16,
   "metadata": {
    "jupyter": {
     "is_executing": true
    }
   },
   "outputs": [
    {
     "data": {
      "text/plain": [
       "End of Period                        0\n",
       "Loan Number                          0\n",
       "Region                               0\n",
       "Country Code                       322\n",
       "Country                              0\n",
       "Borrower                          9179\n",
       "Loan Type                            0\n",
       "Loan Status                          0\n",
       "Interest Rate                        0\n",
       "Project ID                          42\n",
       "Original Principal Amount            0\n",
       "Cancelled Amount                     0\n",
       "Undisbursed Amount                   0\n",
       "Disbursed Amount                     0\n",
       "Repaid to IBRD                       0\n",
       "Due to IBRD                          0\n",
       "Exchange Adjustment                  0\n",
       "Borrower's Obligation                0\n",
       "Sold 3rd Party                       0\n",
       "Repaid 3rd Party                     0\n",
       "Due 3rd Party                        0\n",
       "Loans Held                           0\n",
       "First Repayment Date              4125\n",
       "Last Repayment Date               3965\n",
       "Agreement Signing Date           19418\n",
       "Board Approval Date                  2\n",
       "Effective Date (Most Recent)     10347\n",
       "Closed Date (Most Recent)         1258\n",
       "Last Disbursement Date          543970\n",
       "Loan Duration                        0\n",
       "dtype: int64"
      ]
     },
     "execution_count": 16,
     "metadata": {},
     "output_type": "execute_result"
    }
   ],
   "source": [
    "# Rechecking to see if there are any missing values left\n",
    "df.isnull().sum()"
   ]
  },
  {
   "cell_type": "code",
   "execution_count": 17,
   "metadata": {
    "jupyter": {
     "is_executing": true
    }
   },
   "outputs": [],
   "source": [
    "#The remaining missing values are from the various date columns, dropping the null values and retaining only the loans that have accuracte data values.\n",
    "df= df.dropna()\n",
    "df= pd.DataFrame(df)\n",
    "df.to_csv('cleaned_loan_data.csv', index=False)"
   ]
  },
  {
   "cell_type": "code",
   "execution_count": 24,
   "metadata": {},
   "outputs": [],
   "source": [
    "df.to_excel(\"cleaned_loan_data.xlsx\")"
   ]
  },
  {
   "cell_type": "code",
   "execution_count": 18,
   "metadata": {
    "jupyter": {
     "is_executing": true
    }
   },
   "outputs": [
    {
     "data": {
      "text/plain": [
       "(788688, 30)"
      ]
     },
     "execution_count": 18,
     "metadata": {},
     "output_type": "execute_result"
    }
   ],
   "source": [
    "df.shape"
   ]
  },
  {
   "cell_type": "code",
   "execution_count": 19,
   "metadata": {
    "jupyter": {
     "is_executing": true
    }
   },
   "outputs": [
    {
     "name": "stdout",
     "output_type": "stream",
     "text": [
      "(788688, 26)\n"
     ]
    }
   ],
   "source": [
    "# Use sparse one-hot encoding for categorical columns to save memory\n",
    "encoder = OneHotEncoder(sparse=True, handle_unknown='ignore')\n",
    "cat_cols = [\"Loan Status\"]\n",
    "encoded_cats = encoder.fit_transform(df[cat_cols])\n",
    "\n",
    "# Concatenate numerical and one-hot encoded categorical columns\n",
    "X = hstack([df[num_cols], encoded_cats], format='csr')\n",
    "\n",
    "# Check the dataset shape after processing\n",
    "print(X.shape)\n"
   ]
  },
  {
   "cell_type": "markdown",
   "metadata": {},
   "source": [
    "***Model Selection***"
   ]
  },
  {
   "cell_type": "code",
   "execution_count": 20,
   "metadata": {},
   "outputs": [
    {
     "data": {
      "text/plain": [
       "Fully Repaid           308991\n",
       "Repaid                 181531\n",
       "Repaying                94476\n",
       "Disbursing              84473\n",
       "Disbursed               79186\n",
       "Fully Disbursed         25088\n",
       "Disbursing&Repaying     12763\n",
       "Fully Cancelled          1140\n",
       "Cancelled                 788\n",
       "Fully Transferred         191\n",
       "Effective                  41\n",
       "Signed                     20\n",
       "Name: Loan Status, dtype: int64"
      ]
     },
     "execution_count": 20,
     "metadata": {},
     "output_type": "execute_result"
    }
   ],
   "source": [
    "df[\"Loan Status\"].value_counts()"
   ]
  },
  {
   "cell_type": "code",
   "execution_count": 21,
   "metadata": {},
   "outputs": [],
   "source": [
    "# Define high-risk loan statuses\n",
    "#Loan performance risk model\n",
    "high_risk_statuses = ['Repaying', 'Disbursing', 'Disbursed', 'Fully Disbursed', 'Disbursing&Repaying', 'Effective', 'Signed']\n",
    "df['Loan Risk'] = df['Loan Status'].apply(lambda x: 1 if x in high_risk_statuses else 0)"
   ]
  },
  {
   "cell_type": "code",
   "execution_count": 22,
   "metadata": {
    "jupyter": {
     "is_executing": true
    }
   },
   "outputs": [
    {
     "name": "stdout",
     "output_type": "stream",
     "text": [
      "              precision    recall  f1-score   support\n",
      "\n",
      "           0       1.00      1.00      1.00    147885\n",
      "           1       1.00      1.00      1.00     88722\n",
      "\n",
      "    accuracy                           1.00    236607\n",
      "   macro avg       1.00      1.00      1.00    236607\n",
      "weighted avg       1.00      1.00      1.00    236607\n",
      "\n",
      "Accuracy: 1.0\n"
     ]
    }
   ],
   "source": [
    "#Splitting the dataset into training and testing set. The ratio of train to test data is set at 30%\n",
    "X_train, X_test, y_train, y_test = train_test_split(X, df['Loan Risk'], test_size=0.3, random_state=42)\n",
    "\n",
    "#Training a random forest model\n",
    "model = RandomForestClassifier(random_state=42)\n",
    "model.fit(X_train, y_train)\n",
    "\n",
    "# Evaluation\n",
    "y_pred = model.predict(X_test)\n",
    "print(classification_report(y_test, y_pred))\n",
    "print('Accuracy:', accuracy_score(y_test, y_pred))"
   ]
  },
  {
   "cell_type": "code",
   "execution_count": 23,
   "metadata": {
    "jupyter": {
     "is_executing": true
    }
   },
   "outputs": [
    {
     "data": {
      "image/png": "[encoded data removed]",
      "text/plain": [
       "<Figure size 720x720 with 2 Axes>"
      ]
     },
     "metadata": {
      "needs_background": "light"
     },
     "output_type": "display_data"
    }
   ],
   "source": [
    "conf_matrix = confusion_matrix(y_test,y_pred)\n",
    "plt.figure(figsize=(10,10))\n",
    "sns.heatmap(conf_matrix,annot=True,cmap=\"flare\",fmt=\"g\",linecolor=\"black\")\n",
    "plt.title(\"Confusion Matrix\")\n",
    "plt.xlabel(\"Predicted\")\n",
    "plt.ylabel(\"Actual\")\n",
    "plt.show()"
   ]
  },
  {
   "cell_type": "code",
   "execution_count": null,
   "metadata": {},
   "outputs": [],
   "source": []
  }
 ],
 "metadata": {
  "kernelspec": {
   "display_name": "Python (GPU)",
   "language": "python",
   "name": "gpu_env"
  },
  "language_info": {
   "codemirror_mode": {
    "name": "ipython",
    "version": 3
   },
   "file_extension": ".py",
   "mimetype": "text/x-python",
   "name": "python",
   "nbconvert_exporter": "python",
   "pygments_lexer": "ipython3",
   "version": "3.8.8"
  }
 },
 "nbformat": 4,
 "nbformat_minor": 2
}
